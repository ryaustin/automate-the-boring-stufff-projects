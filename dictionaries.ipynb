{
  "nbformat": 4,
  "nbformat_minor": 0,
  "metadata": {
    "colab": {
      "name": "dictionaries.ipynb",
      "provenance": [],
      "authorship_tag": "ABX9TyNMLkTc16P+VbW3FSWO5EXZ",
      "include_colab_link": true
    },
    "kernelspec": {
      "name": "python3",
      "display_name": "Python 3"
    },
    "language_info": {
      "name": "python"
    }
  },
  "cells": [
    {
      "cell_type": "markdown",
      "metadata": {
        "id": "view-in-github",
        "colab_type": "text"
      },
      "source": [
        "<a href=\"https://colab.research.google.com/github/ryaustin/automate-the-boring-stufff-projects/blob/main/dictionaries.ipynb\" target=\"_parent\"><img src=\"https://colab.research.google.com/assets/colab-badge.svg\" alt=\"Open In Colab\"/></a>"
      ]
    },
    {
      "cell_type": "markdown",
      "metadata": {
        "id": "RdTpAvJ1QArT"
      },
      "source": [
        "http://automatetheboringstuff.com/2e/chapter5/\n",
        "\n",
        "Indexes for dictionaries are called keys, and a key with its associated value is called a key-value pair.\n",
        "\n",
        "In code, a dictionary is typed with braces, {}."
      ]
    },
    {
      "cell_type": "code",
      "metadata": {
        "colab": {
          "base_uri": "https://localhost:8080/"
        },
        "id": "bRGa-8M-Pu6j",
        "outputId": "c1b510c4-8c24-4611-e871-0d7538744da5"
      },
      "source": [
        "myCat = {'size': 'fat', 'color': 'gray', 'disposition': 'loud'}\n",
        "print(myCat['size'])\n",
        "color = 'red'\n",
        "print('My cat has', myCat['color'], 'fur')\n",
        "print(f\"My cat has {myCat['color']} fur\") \n",
        "# note: tried a f string with single quotation on a dictionary object and it does not work.\n",
        "print(f'my fav color is {color}')\n",
        "print(f'my fav color is {myCat[\"color\"]}')\n",
        "# tried again this time with double quotations for the key and boom, it works.\n"
      ],
      "execution_count": 26,
      "outputs": [
        {
          "output_type": "stream",
          "text": [
            "fat\n",
            "My cat has gray fur\n",
            "My cat has gray fur\n",
            "my fav color is red\n",
            "my fav color is gray\n"
          ],
          "name": "stdout"
        }
      ]
    },
    {
      "cell_type": "markdown",
      "metadata": {
        "id": "-hDDZdPNSfLc"
      },
      "source": [
        "Unlike lists, items in dictionaries are unordered. The first item in a list named spam would be spam[0]. But there is no “first” item in a dictionary. While the order of items matters for determining whether two lists are the same, it does not matter in what order the key-value pairs are typed in a dictionary. "
      ]
    },
    {
      "cell_type": "code",
      "metadata": {
        "colab": {
          "base_uri": "https://localhost:8080/"
        },
        "id": "p90IvjlBSxW7",
        "outputId": "34c7da14-1270-47e2-dad6-70d0f4f0996a"
      },
      "source": [
        "# list example\n",
        "spam = ['cats', 'dogs', 'moose']\n",
        "bacon = ['dogs', 'moose', 'cats']\n",
        "spam == bacon"
      ],
      "execution_count": 27,
      "outputs": [
        {
          "output_type": "execute_result",
          "data": {
            "text/plain": [
              "False"
            ]
          },
          "metadata": {
            "tags": []
          },
          "execution_count": 27
        }
      ]
    },
    {
      "cell_type": "code",
      "metadata": {
        "colab": {
          "base_uri": "https://localhost:8080/"
        },
        "id": "-pwb2jPVS62Z",
        "outputId": "b41e5c89-2d64-4dd2-95a9-39fbd4869c55"
      },
      "source": [
        "# dictionary example\n",
        "eggs = {'name': 'Zophie', 'species': 'cat', 'age': '8'}\n",
        "ham = {'species': 'cat', 'age': '8', 'name': 'Zophie'}\n",
        "eggs == ham"
      ],
      "execution_count": 28,
      "outputs": [
        {
          "output_type": "execute_result",
          "data": {
            "text/plain": [
              "True"
            ]
          },
          "metadata": {
            "tags": []
          },
          "execution_count": 28
        }
      ]
    },
    {
      "cell_type": "markdown",
      "metadata": {
        "id": "RyRLxIB7ZxZR"
      },
      "source": [
        "Because dictionaries are not ordered, they can’t be sliced like lists.\n",
        "\n",
        "Trying to access a key that does not exist in a dictionary will result in a KeyError error message, much like a list’s “out-of-range” IndexError error message."
      ]
    },
    {
      "cell_type": "code",
      "metadata": {
        "colab": {
          "base_uri": "https://localhost:8080/",
          "height": 164
        },
        "id": "nVJYnWHxbMh7",
        "outputId": "695ffbf4-c5e5-46ae-c25d-f87682136e0a"
      },
      "source": [
        "eggs['color']"
      ],
      "execution_count": 29,
      "outputs": [
        {
          "output_type": "error",
          "ename": "KeyError",
          "evalue": "ignored",
          "traceback": [
            "\u001b[0;31m---------------------------------------------------------------------------\u001b[0m",
            "\u001b[0;31mKeyError\u001b[0m                                  Traceback (most recent call last)",
            "\u001b[0;32m<ipython-input-29-cbdb4186d4f0>\u001b[0m in \u001b[0;36m<module>\u001b[0;34m()\u001b[0m\n\u001b[0;32m----> 1\u001b[0;31m \u001b[0meggs\u001b[0m\u001b[0;34m[\u001b[0m\u001b[0;34m'color'\u001b[0m\u001b[0;34m]\u001b[0m\u001b[0;34m\u001b[0m\u001b[0;34m\u001b[0m\u001b[0m\n\u001b[0m",
            "\u001b[0;31mKeyError\u001b[0m: 'color'"
          ]
        }
      ]
    },
    {
      "cell_type": "code",
      "metadata": {
        "id": "N7QfIqGvbdWs"
      },
      "source": [
        "birthdays = {'Zyan':'Feb 6', 'Hem':'Sep 5', 'Jane': 'April 19', 'Lauren':'Dec 23'}\n",
        "\n",
        "while True:\n",
        "  print('Enter a name: (blank to quit')\n",
        "  name = input()\n",
        "  if name == '':\n",
        "    break\n",
        "\n",
        "  if name in birthdays:\n",
        "    print(f\"{birthdays[name]} is the birthday of {name}\")\n",
        "  else:\n",
        "    print(f\"I don't have birthday information for {name}\")\n",
        "    print(\"What is their birthday?\")\n",
        "    bday = input()\n",
        "    birthdays[name] = bday\n",
        "    print('Birthday database updated.')\n",
        "    print(f\"New entry: {name} birthday {bday}\")"
      ],
      "execution_count": null,
      "outputs": []
    },
    {
      "cell_type": "markdown",
      "metadata": {
        "id": "l36E7ctJfsM4"
      },
      "source": [
        "visualize the running of your code: http://pythontutor.com/"
      ]
    },
    {
      "cell_type": "markdown",
      "metadata": {
        "id": "ap9oGc3ThHnu"
      },
      "source": [
        "# The keys(), values(), and items() Methods\n",
        "There are three dictionary methods that will return list-like values of the dictionary’s keys, values, or both keys and values: keys(), values(), and items(). The values returned by these methods are not true lists: they cannot be modified and do not have an append() method. But these data types (dict_keys, dict_values, and dict_items, respectively) can be used in for loops. To see how these methods work, enter the following into the interactive shell:"
      ]
    },
    {
      "cell_type": "code",
      "metadata": {
        "colab": {
          "base_uri": "https://localhost:8080/"
        },
        "id": "jlISrX6whKVz",
        "outputId": "de99547b-fbdd-45d2-8472-93ad6aeb78dc"
      },
      "source": [
        "# values\n",
        "for v in birthdays.values():\n",
        "  print(v)"
      ],
      "execution_count": 30,
      "outputs": [
        {
          "output_type": "stream",
          "text": [
            "Feb 6\n",
            "Sep 5\n",
            "April 19\n",
            "Dec 23\n",
            "\n"
          ],
          "name": "stdout"
        }
      ]
    },
    {
      "cell_type": "code",
      "metadata": {
        "id": "g4i8MtNIhci1"
      },
      "source": [
        "# keys\n",
        "for k in birthdays.keys():\n",
        "  print(k)"
      ],
      "execution_count": null,
      "outputs": []
    },
    {
      "cell_type": "code",
      "metadata": {
        "id": "BVEAY_eLhmKN"
      },
      "source": [
        "# items\n",
        "\n",
        "for i in birthdays.items():\n",
        "  print(i)\n",
        "  print(list(i)) # cast as a list\n"
      ],
      "execution_count": null,
      "outputs": []
    },
    {
      "cell_type": "code",
      "metadata": {
        "id": "8vWljCLOuxCx"
      },
      "source": [
        "# checking if a key or value exisits ina dict\n",
        "\n",
        "print('Zyan' in birthdays.keys())\n",
        "print('Zyan' in birthdays) # can search using key names without specifiving .keys\n",
        "print('Feb 6' in birthdays.values())\n",
        "print('Tavy' in birthdays)\n"
      ],
      "execution_count": null,
      "outputs": []
    },
    {
      "cell_type": "markdown",
      "metadata": {
        "id": "gWthABFAvphQ"
      },
      "source": [
        "# The get() Method\n",
        "It’s tedious to check whether a key exists in a dictionary before accessing that key’s value. Fortunately, dictionaries have a get() method that takes two arguments: the key of the value to retrieve and a fallback value to return if that key does not exist."
      ]
    },
    {
      "cell_type": "code",
      "metadata": {
        "id": "TULf-zD8vty9"
      },
      "source": [
        "picnicItems = {'apples': 5, 'cups': 2}\n",
        "print('I am bringing ' + str(picnicItems.get('cups', 0)) + ' cups.')\n",
        "print('I am bringing ' + str(picnicItems.get('eggs', 0)) + ' eggs.')\n",
        "print(f'I am bringing {picnicItems.get(\"eggs\", 0)} eggs.')"
      ],
      "execution_count": null,
      "outputs": []
    },
    {
      "cell_type": "markdown",
      "metadata": {
        "id": "g0IBRk7KwjXE"
      },
      "source": [
        "Because there is no 'eggs' key in the picnicItems dictionary, the default value 0 is returned by the get() method. Without using get(), the code would have caused an error message, such as in the following example:"
      ]
    },
    {
      "cell_type": "code",
      "metadata": {
        "id": "mI1subDfwkyw"
      },
      "source": [
        "print(f'I am bringing {picnicItems[\"eggs\"]} eggs.')"
      ],
      "execution_count": null,
      "outputs": []
    },
    {
      "cell_type": "markdown",
      "metadata": {
        "id": "pxYZU5VoxEyf"
      },
      "source": [
        "# The setdefault() Method\n",
        "You’ll often have to set a value in a dictionary for a certain key only if that key does not already have a value. The code looks something like this:"
      ]
    },
    {
      "cell_type": "code",
      "metadata": {
        "id": "TnZqGzpbxJaB"
      },
      "source": [
        "spam = {'name': 'Pooka', 'age': 5}\n",
        "if 'color' not in spam:\n",
        "    spam['color'] = 'black'"
      ],
      "execution_count": null,
      "outputs": []
    },
    {
      "cell_type": "markdown",
      "metadata": {
        "id": "nQhTej1rxVcw"
      },
      "source": [
        "The setdefault() method offers a way to do this in one line of code. The first argument passed to the method is the key to check for, and the second argument is the value to set at that key if the key does not exist. If the key does exist, the setdefault() method returns the key’s value. "
      ]
    },
    {
      "cell_type": "code",
      "metadata": {
        "id": "jwl8WDEuxWkO"
      },
      "source": [
        "spam.setdefault('color', 'black')"
      ],
      "execution_count": null,
      "outputs": []
    },
    {
      "cell_type": "code",
      "metadata": {
        "id": "rggou0NhxjCb"
      },
      "source": [
        "print(spam)"
      ],
      "execution_count": null,
      "outputs": []
    },
    {
      "cell_type": "code",
      "metadata": {
        "id": "mPHkzT86xpG2"
      },
      "source": [
        "spam.setdefault('color', 'green')"
      ],
      "execution_count": null,
      "outputs": []
    },
    {
      "cell_type": "markdown",
      "metadata": {
        "id": "jR0Gv1G8x6h9"
      },
      "source": [
        "The setdefault() method is a nice shortcut to ensure that a key exists."
      ]
    },
    {
      "cell_type": "code",
      "metadata": {
        "id": "ydzPSlUpyK5X"
      },
      "source": [
        "message = 'It was a bright cold day in April, and the clocks were striking thirteen.'\n",
        "count = {}\n",
        "\n",
        "for character in message:\n",
        " count.setdefault(character, 0)\n",
        " count[character] = count[character] + 1\n",
        "\n",
        "print(count)    "
      ],
      "execution_count": null,
      "outputs": []
    },
    {
      "cell_type": "code",
      "metadata": {
        "colab": {
          "base_uri": "https://localhost:8080/"
        },
        "id": "fmw0rL-Uyk-D",
        "outputId": "a7f73ce8-6ad9-49ce-8283-9036e37ed9b4"
      },
      "source": [
        "message = 'It was a bright cold day in April, and the clocks were striking thirteen.'\n",
        "count = {}\n",
        "\n",
        "highest_count = 0\n",
        "most_used_char = ''\n",
        "for character in message:\n",
        "  count.setdefault(character, 0)\n",
        "  count[character] = count[character] + 1\n",
        "  if count[character] > highest_count and character != ' ':\n",
        "    highest_count = count[character]\n",
        "    most_used_char = character\n",
        "print(f\"Most used character is {most_used_char} with a total count of {highest_count}\")\n"
      ],
      "execution_count": 31,
      "outputs": [
        {
          "output_type": "stream",
          "text": [
            "Most used character is i with a total count of 6\n"
          ],
          "name": "stdout"
        }
      ]
    },
    {
      "cell_type": "markdown",
      "metadata": {
        "id": "6V96Hrtt2_0W"
      },
      "source": [
        "# Pretty Printing\n",
        "If you import the pprint module into your programs, you’ll have access to the pprint() and pformat() functions that will “pretty print” a dictionary’s values. This is helpful when you want a cleaner display of the items in a dictionary than what print() provides."
      ]
    },
    {
      "cell_type": "code",
      "metadata": {
        "colab": {
          "base_uri": "https://localhost:8080/"
        },
        "id": "1j_mY88Z3F-1",
        "outputId": "ba17c012-0df6-4a78-b164-25c3198b11b3"
      },
      "source": [
        "import pprint as p\n",
        "\n",
        "message = 'It was a bright cold day in April, and the clocks were striking thirteen.'\n",
        "count = {}\n",
        "\n",
        "for character in message:\n",
        " count.setdefault(character, 0)\n",
        " count[character] = count[character] + 1\n",
        "\n",
        "p.pprint(count) "
      ],
      "execution_count": 32,
      "outputs": [
        {
          "output_type": "stream",
          "text": [
            "{' ': 13,\n",
            " ',': 1,\n",
            " '.': 1,\n",
            " 'A': 1,\n",
            " 'I': 1,\n",
            " 'a': 4,\n",
            " 'b': 1,\n",
            " 'c': 3,\n",
            " 'd': 3,\n",
            " 'e': 5,\n",
            " 'g': 2,\n",
            " 'h': 3,\n",
            " 'i': 6,\n",
            " 'k': 2,\n",
            " 'l': 3,\n",
            " 'n': 4,\n",
            " 'o': 2,\n",
            " 'p': 1,\n",
            " 'r': 5,\n",
            " 's': 3,\n",
            " 't': 6,\n",
            " 'w': 2,\n",
            " 'y': 1}\n"
          ],
          "name": "stdout"
        }
      ]
    },
    {
      "cell_type": "markdown",
      "metadata": {
        "id": "VNbwRNdgCz0R"
      },
      "source": [
        "# Tic Tac Toe"
      ]
    },
    {
      "cell_type": "code",
      "metadata": {
        "id": "hZBiNQYRC4qW"
      },
      "source": [
        "theBoard = {'top-L': ' ', 'top-M': ' ', 'top-R': ' ',\n",
        "            'mid-L': ' ', 'mid-M': ' ', 'mid-R': ' ',\n",
        "            'low-L': ' ', 'low-M': ' ', 'low-R': ' '}\n",
        "\n",
        "def printBoard(board):\n",
        "    print(board['top-L'] + '|' + board['top-M'] + '|' + board['top-R'])\n",
        "    print('-+-+-')\n",
        "    print(board['mid-L'] + '|' + board['mid-M'] + '|' + board['mid-R'])\n",
        "    print('-+-+-')\n",
        "    print(board['low-L'] + '|' + board['low-M'] + '|' + board['low-R'])\n",
        "\n",
        "turn = 'X'\n",
        "for i in range(9):\n",
        "  printBoard(theBoard)\n",
        "  print('Turn for ' + turn + '. Move on which space?')\n",
        "  move = input()\n",
        "  theBoard[move] = turn\n",
        "  if turn == 'X':\n",
        "     turn = 'O'\n",
        "  else:\n",
        "    \n",
        "     turn = 'X'\n",
        "\n",
        "printBoard(theBoard)"
      ],
      "execution_count": null,
      "outputs": []
    },
    {
      "cell_type": "code",
      "metadata": {
        "id": "3rdfgc1PLntp"
      },
      "source": [
        "names = {'1':'Ryan','2':'Ryan'}\n",
        "print(names['1']==names['2'])"
      ],
      "execution_count": null,
      "outputs": []
    },
    {
      "cell_type": "code",
      "metadata": {
        "colab": {
          "base_uri": "https://localhost:8080/"
        },
        "id": "6nzQtpMJDQYO",
        "outputId": "61a887d0-bcff-4078-a2ad-97fa845fd08f"
      },
      "source": [
        "\n",
        "  # Ryan's mod and completion\n",
        "\n",
        "theBoard = {'tl': ' ', 'tm': ' ', 'tr': ' ',\n",
        "            'ml': ' ', 'mm': ' ', 'mr': ' ',\n",
        "            'll': ' ', 'lm': ' ', 'lr': ' '}\n",
        "\n",
        "def printBoard(board):\n",
        "    print('**Current Board**')\n",
        "    print(board['tl'] + '|' + board['tm'] + '|' + board['tr'])\n",
        "    print('-+-+-')\n",
        "    print(board['ml'] + '|' + board['mm'] + '|' + board['mr'])\n",
        "    print('-+-+-')\n",
        "    print(board['ll'] + '|' + board['lm'] + '|' + board['lr'])\n",
        "    print()\n",
        "\n",
        "def do_we_have_a_winner(board):\n",
        "  \"\"\" Checks all the positions on the board to determine if a player wins \"\"\"\n",
        "  if (\n",
        "      board['tl'] != ' ' and board['tl'] == board['tm'] == board['tr']\n",
        "      or board['tm'] != ' ' and board['tm'] == board['mm'] == board['lm']\n",
        "      or board['tr'] != ' ' and board['tr'] == board['mr'] == board['lr']\n",
        "      or board['tl'] != ' ' and board['tl'] == board['ml'] == board['ll']\n",
        "      or board['tr'] != ' ' and board['tr'] == board['mm'] == board['ll']\n",
        "      or board['ml'] != ' ' and board['ml'] == board['mm'] == board['mr']\n",
        "      or board['tl'] != ' ' and board['tl'] == board['mm'] == board['lr']\n",
        "      or board['ll'] != ' ' and board['ll'] == board['lm'] == board['lr']\n",
        "      ):\n",
        "      return True\n",
        "  else:\n",
        "    return False\n",
        "\n",
        "def already_played(value):\n",
        "  return value != ' '\n",
        "\n",
        "turn = 'X'\n",
        "for i in range(9):\n",
        "  printBoard(theBoard)\n",
        "  print('Turn for ' + turn + '. Move on which space?')\n",
        "  print('Enter from one of the free spaces below')\n",
        "  print()\n",
        "  print('      tl | tm | tr')\n",
        "  print('        - + - + -')\n",
        "  print('      ml | mm | mr')\n",
        "  print('.      - + -  + -') \n",
        "  print('      ll | lm | lr')\n",
        "  \n",
        "  while True:\n",
        "    move = input()\n",
        "    if theBoard[move] == ' ':\n",
        "      break\n",
        "    else:\n",
        "      print('Someone already played there, try another play.')\n",
        "\n",
        "    \n",
        "  theBoard[move] = turn\n",
        "  if do_we_have_a_winner(theBoard):\n",
        "    print(turn, 'wins')\n",
        "    break\n",
        "  if turn == 'X':\n",
        "     turn = 'O'\n",
        "  else: \n",
        "     turn = 'X'\n",
        "\n",
        "printBoard(theBoard)"
      ],
      "execution_count": 33,
      "outputs": [
        {
          "output_type": "stream",
          "text": [
            "**Current Board**\n",
            " | | \n",
            "-+-+-\n",
            " | | \n",
            "-+-+-\n",
            " | | \n",
            "\n",
            "Turn for X. Move on which space?\n",
            "Enter from one of the free spaces below\n",
            "\n",
            "      tl | tm | tr\n",
            "        - + - + -\n",
            "      ml | mm | mr\n",
            ".      - + -  + -\n",
            "      ll | lm | lr\n",
            "tl\n",
            "**Current Board**\n",
            "X| | \n",
            "-+-+-\n",
            " | | \n",
            "-+-+-\n",
            " | | \n",
            "\n",
            "Turn for O. Move on which space?\n",
            "Enter from one of the free spaces below\n",
            "\n",
            "      tl | tm | tr\n",
            "        - + - + -\n",
            "      ml | mm | mr\n",
            ".      - + -  + -\n",
            "      ll | lm | lr\n",
            "mm\n",
            "**Current Board**\n",
            "X| | \n",
            "-+-+-\n",
            " |O| \n",
            "-+-+-\n",
            " | | \n",
            "\n",
            "Turn for X. Move on which space?\n",
            "Enter from one of the free spaces below\n",
            "\n",
            "      tl | tm | tr\n",
            "        - + - + -\n",
            "      ml | mm | mr\n",
            ".      - + -  + -\n",
            "      ll | lm | lr\n",
            "tm\n",
            "**Current Board**\n",
            "X|X| \n",
            "-+-+-\n",
            " |O| \n",
            "-+-+-\n",
            " | | \n",
            "\n",
            "Turn for O. Move on which space?\n",
            "Enter from one of the free spaces below\n",
            "\n",
            "      tl | tm | tr\n",
            "        - + - + -\n",
            "      ml | mm | mr\n",
            ".      - + -  + -\n",
            "      ll | lm | lr\n",
            "ll\n",
            "**Current Board**\n",
            "X|X| \n",
            "-+-+-\n",
            " |O| \n",
            "-+-+-\n",
            "O| | \n",
            "\n",
            "Turn for X. Move on which space?\n",
            "Enter from one of the free spaces below\n",
            "\n",
            "      tl | tm | tr\n",
            "        - + - + -\n",
            "      ml | mm | mr\n",
            ".      - + -  + -\n",
            "      ll | lm | lr\n",
            "tr\n",
            "X wins\n",
            "**Current Board**\n",
            "X|X|X\n",
            "-+-+-\n",
            " |O| \n",
            "-+-+-\n",
            "O| | \n",
            "\n"
          ],
          "name": "stdout"
        }
      ]
    }
  ]
}